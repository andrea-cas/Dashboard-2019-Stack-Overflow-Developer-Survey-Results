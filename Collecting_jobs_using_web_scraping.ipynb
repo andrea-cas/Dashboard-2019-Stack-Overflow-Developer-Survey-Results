{
  "nbformat": 4,
  "nbformat_minor": 0,
  "metadata": {
    "colab": {
      "provenance": []
    },
    "kernelspec": {
      "name": "python3",
      "display_name": "Python 3"
    },
    "language_info": {
      "name": "python"
    }
  },
  "cells": [
    {
      "cell_type": "code",
      "execution_count": 1,
      "metadata": {
        "id": "r6bMzqNtGLMZ"
      },
      "outputs": [],
      "source": [
        "from bs4 import BeautifulSoup\n",
        "import requests\n",
        "import csv\n",
        "import pandas as pd"
      ]
    },
    {
      "cell_type": "code",
      "source": [
        "url = \"https://cf-courses-data.s3.us.cloud-object-storage.appdomain.cloud/IBM-DA0321EN-SkillsNetwork/labs/datasets/Programming_Languages.html\""
      ],
      "metadata": {
        "id": "1ELKQISnGlYY"
      },
      "execution_count": 2,
      "outputs": []
    },
    {
      "cell_type": "code",
      "source": [
        "data = requests.get(url).text"
      ],
      "metadata": {
        "id": "fCd0EdPDGp5o"
      },
      "execution_count": 3,
      "outputs": []
    },
    {
      "cell_type": "code",
      "source": [
        "soup = BeautifulSoup(data, \"html.parser\")"
      ],
      "metadata": {
        "id": "vKe2nVvcGtR5"
      },
      "execution_count": 4,
      "outputs": []
    },
    {
      "cell_type": "code",
      "source": [
        "#Scrapes the Language name and Annual average salary and saves results in a CSV file\n",
        "table = soup.find(\"table\")\n",
        "\n",
        "with open(\"popular-languages.csv\", \"w\", newline=\"\", encoding=\"utf-8\") as csvfile:\n",
        "    writer = csv.writer(csvfile)\n",
        "\n",
        "    for row in table.find_all(\"tr\"):\n",
        "        column = row.find_all(\"td\")\n",
        "        lang_name = column[1].getText()\n",
        "        annual_avg_sal = column[3].getText()\n",
        "        writer.writerow([lang_name, annual_avg_sal])"
      ],
      "metadata": {
        "id": "m7E1ebdZGvvq"
      },
      "execution_count": 5,
      "outputs": []
    },
    {
      "cell_type": "code",
      "source": [
        "1"
      ],
      "metadata": {
        "id": "0DrnxArwHSUm"
      },
      "execution_count": null,
      "outputs": []
    }
  ]
}