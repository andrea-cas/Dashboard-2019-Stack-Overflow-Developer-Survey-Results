{
  "nbformat": 4,
  "nbformat_minor": 0,
  "metadata": {
    "colab": {
      "provenance": []
    },
    "kernelspec": {
      "name": "python3",
      "display_name": "Python 3"
    },
    "language_info": {
      "name": "python"
    }
  },
  "cells": [
    {
      "cell_type": "code",
      "execution_count": null,
      "metadata": {
        "id": "3sT9qPrRXXHg"
      },
      "outputs": [],
      "source": [
        "import pandas as pd\n",
        "import json\n",
        "import requests\n",
        "import matplotlib.pyplot as plt"
      ]
    },
    {
      "cell_type": "code",
      "source": [
        "#Returns the number of jobs in the United States related to a specified technology\n",
        "api_url=\"https://cf-courses-data.s3.us.cloud-object-storage.appdomain.cloud/IBM-DA0321EN-SkillsNetwork/labs/module%201/Accessing%20Data%20Using%20APIs/jobs.json\"\n",
        "\n",
        "def get_number_of_jobs_T(technology):\n",
        "    response = requests.get(api_url)\n",
        "    if response.ok:\n",
        "        data = response.json()\n",
        "        filtered_jobs = [job for job in data if technology in job.get(\"Key Skills\", \"\")]\n",
        "\n",
        "        number_of_jobs = len(filtered_jobs)\n",
        "        return number_of_jobs"
      ],
      "metadata": {
        "id": "9RcTOtitX_6h"
      },
      "execution_count": null,
      "outputs": []
    },
    {
      "cell_type": "code",
      "source": [
        "#Test\n",
        "technology = \"Python\"\n",
        "num_jobs = get_number_of_jobs_T(technology)\n",
        "if technology is not None and num_jobs is not None:\n",
        "    print(f\"Number of jobs related to {technology}: {num_jobs}\")"
      ],
      "metadata": {
        "colab": {
          "base_uri": "https://localhost:8080/"
        },
        "id": "lIzuC3p64Dzd",
        "outputId": "4cf661f7-14c5-49a9-cb25-9d34ad666844"
      },
      "execution_count": null,
      "outputs": [
        {
          "output_type": "stream",
          "name": "stdout",
          "text": [
            "Number of jobs related to Python: 1173\n"
          ]
        }
      ]
    },
    {
      "cell_type": "code",
      "source": [
        "#Returns the number of jobs in the United States for a given location\n",
        "def get_number_of_jobs_L(location):\n",
        "\n",
        "    response = requests.get(api_url)\n",
        "    if response.ok:\n",
        "        data = response.json()\n",
        "        filtered_jobs = [job for job in data if location in job.get(\"Location\", \"\")]\n",
        "\n",
        "        number_of_jobs = len(filtered_jobs)\n",
        "        return len(filtered_jobs)"
      ],
      "metadata": {
        "id": "NqSbcyic4Jt-"
      },
      "execution_count": null,
      "outputs": []
    },
    {
      "cell_type": "code",
      "source": [
        "#Test\n",
        "location = \"Los Angeles\"\n",
        "jobs_num = get_number_of_jobs_L(location)\n",
        "if jobs_num is not None:\n",
        "    print(f\"Number of jobs located in {location}: {jobs_num}\")"
      ],
      "metadata": {
        "colab": {
          "base_uri": "https://localhost:8080/"
        },
        "id": "TkGcYADG4gQJ",
        "outputId": "e828ce1e-ff4a-4cea-db65-c0abba60aee5"
      },
      "execution_count": null,
      "outputs": [
        {
          "output_type": "stream",
          "name": "stdout",
          "text": [
            "Number of jobs located in Los Angeles: 640\n"
          ]
        }
      ]
    },
    {
      "cell_type": "code",
      "source": [
        "locations = [\"Los Angeles\", \"New York\", \"San Francisco\", \"Washington DC\", \"Seattle\", \"Austin\", \"Detroit\"]"
      ],
      "metadata": {
        "id": "APnJpjIZ4yx6"
      },
      "execution_count": null,
      "outputs": []
    },
    {
      "cell_type": "code",
      "source": [
        "pip install openpyxl"
      ],
      "metadata": {
        "colab": {
          "base_uri": "https://localhost:8080/"
        },
        "id": "Cg5s5Zjp5Num",
        "outputId": "bca48c8b-bb33-4c9a-eb81-3b89eb7e4f33"
      },
      "execution_count": null,
      "outputs": [
        {
          "output_type": "stream",
          "name": "stdout",
          "text": [
            "Requirement already satisfied: openpyxl in /usr/local/lib/python3.10/dist-packages (3.1.2)\n",
            "Requirement already satisfied: et-xmlfile in /usr/local/lib/python3.10/dist-packages (from openpyxl) (1.1.0)\n"
          ]
        }
      ]
    },
    {
      "cell_type": "code",
      "source": [
        "from openpyxl import Workbook"
      ],
      "metadata": {
        "id": "rYUkM_aB5OiS"
      },
      "execution_count": null,
      "outputs": []
    },
    {
      "cell_type": "code",
      "source": [
        "#Creates an excel workbook and worksheet to save the results\n",
        "workbook = Workbook()\n",
        "worksheet = workbook.active\n",
        "worksheet.title = \"Jobs\"\n",
        "worksheet.append([\"Location\", \"Number of Jobs\"])"
      ],
      "metadata": {
        "id": "eqEfsyN75hPP"
      },
      "execution_count": null,
      "outputs": []
    },
    {
      "cell_type": "code",
      "source": [
        "for location in locations:\n",
        "    num_jobs = get_number_of_jobs_L(location)\n",
        "    if num_jobs is not None:\n",
        "        worksheet.append([location, num_jobs])"
      ],
      "metadata": {
        "id": "QYJjjgvX5qoN"
      },
      "execution_count": null,
      "outputs": []
    },
    {
      "cell_type": "code",
      "source": [
        "worksheet.append([])"
      ],
      "metadata": {
        "id": "kJFxRDvl5uwG"
      },
      "execution_count": null,
      "outputs": []
    },
    {
      "cell_type": "code",
      "source": [
        "technologies = [\"C\", \"C#\", \"C++\", \"Java\", \"JavaScript\", \"Python\", \"Scala\", \"Oracle\", \"SQL Server\", \"MySQL Server\", \"PostgreSQL\", \"MongoDB\"]\n",
        "worksheet.append([\"Technologies\", \"Number of Jobs\"])\n",
        "for technology in technologies:\n",
        "    tech = get_number_of_jobs_T(technology)\n",
        "    if tech is not None:\n",
        "        worksheet.append([technology, tech])"
      ],
      "metadata": {
        "id": "CMGK40d_6F6v"
      },
      "execution_count": null,
      "outputs": []
    },
    {
      "cell_type": "code",
      "source": [
        "workbook.save(\"job_postings.xlsx\")"
      ],
      "metadata": {
        "id": "hU-CuH7G6JWT"
      },
      "execution_count": null,
      "outputs": []
    },
    {
      "cell_type": "code",
      "source": [],
      "metadata": {
        "id": "yoqK9zG16VGU"
      },
      "execution_count": null,
      "outputs": []
    }
  ]
}