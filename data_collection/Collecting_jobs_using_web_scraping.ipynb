{
  "cells": [
    {
      "cell_type": "code",
      "execution_count": 1,
      "metadata": {
        "id": "r6bMzqNtGLMZ"
      },
      "outputs": [],
      "source": [
        "from bs4 import BeautifulSoup\n",
        "import requests\n",
        "import csv\n",
        "import pandas as pd"
      ]
    },
    {
      "cell_type": "code",
      "execution_count": 2,
      "metadata": {
        "id": "1ELKQISnGlYY"
      },
      "outputs": [],
      "source": [
        "url = \"https://cf-courses-data.s3.us.cloud-object-storage.appdomain.cloud/IBM-DA0321EN-SkillsNetwork/labs/datasets/Programming_Languages.html\""
      ]
    },
    {
      "cell_type": "code",
      "execution_count": 3,
      "metadata": {
        "id": "fCd0EdPDGp5o"
      },
      "outputs": [],
      "source": [
        "data = requests.get(url).text"
      ]
    },
    {
      "cell_type": "code",
      "execution_count": 4,
      "metadata": {
        "id": "vKe2nVvcGtR5"
      },
      "outputs": [],
      "source": [
        "soup = BeautifulSoup(data, \"html.parser\")"
      ]
    },
    {
      "cell_type": "code",
      "execution_count": 5,
      "metadata": {
        "id": "m7E1ebdZGvvq"
      },
      "outputs": [],
      "source": [
        "#Scrapes the Language name and Annual average salary and saves results in a CSV file\n",
        "table = soup.find(\"table\")\n",
        "\n",
        "with open(\"popular-languages.csv\", \"w\", newline=\"\", encoding=\"utf-8\") as csvfile:\n",
        "    writer = csv.writer(csvfile)\n",
        "\n",
        "    for row in table.find_all(\"tr\"):\n",
        "        column = row.find_all(\"td\")\n",
        "        lang_name = column[1].getText()\n",
        "        annual_avg_sal = column[3].getText()\n",
        "        writer.writerow([lang_name, annual_avg_sal])"
      ]
    },
    {
      "cell_type": "code",
      "execution_count": null,
      "metadata": {
        "id": "0DrnxArwHSUm"
      },
      "outputs": [],
      "source": []
    }
  ],
  "metadata": {
    "colab": {
      "provenance": []
    },
    "kernelspec": {
      "display_name": "Python 3",
      "name": "python3"
    },
    "language_info": {
      "name": "python"
    }
  },
  "nbformat": 4,
  "nbformat_minor": 0
}
